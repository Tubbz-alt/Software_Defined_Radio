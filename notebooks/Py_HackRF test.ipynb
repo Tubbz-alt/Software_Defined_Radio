{
 "cells": [
  {
   "cell_type": "markdown",
   "metadata": {},
   "source": [
    "# Py_HackRF test\n",
    "https://github.com/hathcox/py-hackrf  \n",
    "https://github.com/hathcox/py-hackrf/wiki  "
   ]
  },
  {
   "cell_type": "code",
   "execution_count": 32,
   "metadata": {},
   "outputs": [],
   "source": [
    "import os, sys\n",
    "\n",
    "def gen_relative_path(target_path): \n",
    "    \n",
    "    def del_same_parents(target_path, current_path):\n",
    "        if len(target_path) * len(current_path) > 0:\n",
    "            if target_path[0] == current_path[0]:\n",
    "                target_path.pop(0)\n",
    "                current_path.pop(0)\n",
    "                del_same_parents(target_path, current_path)\n",
    "            \n",
    "    current_path = os.getcwd().replace('\\\\', '/').split('/')\n",
    "    target_path = target_path.replace('\\\\', '/').split('/')\n",
    "    del_same_parents(target_path, current_path)\n",
    "    \n",
    "    return ['..'] * len(current_path) + target_path\n",
    "\n",
    "\n",
    "def append_source_relative_path(source_relative_path):\n",
    "    sys.path.append(os.sep.join(source_relative_path))"
   ]
  },
  {
   "cell_type": "code",
   "execution_count": 33,
   "metadata": {},
   "outputs": [],
   "source": [
    "# paths = [gen_relative_path(p) for p in paths]\n",
    "# print(paths)"
   ]
  },
  {
   "cell_type": "code",
   "execution_count": 34,
   "metadata": {},
   "outputs": [],
   "source": [
    "paths = [['..', 'codes'], \n",
    "         ['..', '..', '..', '..', 'ORM', 'bitbucket', 'github', 'codes'], \n",
    "         ['..', '..', '..', '..', 'USB', 'Universal Serial Bus', 'bitbucket', 'github', 'codes']]\n",
    "\n",
    "for path in paths:\n",
    "    append_source_relative_path(path)"
   ]
  },
  {
   "cell_type": "code",
   "execution_count": 35,
   "metadata": {},
   "outputs": [
    {
     "name": "stdout",
     "output_type": "stream",
     "text": [
      "Populating the interactive namespace from numpy and matplotlib\n"
     ]
    }
   ],
   "source": [
    "%pylab inline  \n",
    "\n",
    "from software_defined_radio.devices.hackrf.py_hackrf import HackRf\n",
    "from software_defined_radio.devices.hackrf.py_hackrf.test import TestHackRf\n",
    "import time"
   ]
  },
  {
   "cell_type": "code",
   "execution_count": 36,
   "metadata": {},
   "outputs": [],
   "source": [
    "hf = HackRf()"
   ]
  },
  {
   "cell_type": "code",
   "execution_count": 37,
   "metadata": {},
   "outputs": [
    {
     "data": {
      "text/plain": [
       "0"
      ]
     },
     "execution_count": 37,
     "metadata": {},
     "output_type": "execute_result"
    }
   ],
   "source": [
    "hf.set_txvga_gain(14)"
   ]
  },
  {
   "cell_type": "code",
   "execution_count": 38,
   "metadata": {},
   "outputs": [
    {
     "data": {
      "text/plain": [
       "0"
      ]
     },
     "execution_count": 38,
     "metadata": {},
     "output_type": "execute_result"
    }
   ],
   "source": [
    "hf.set_vga_gain(42)"
   ]
  },
  {
   "cell_type": "code",
   "execution_count": 39,
   "metadata": {},
   "outputs": [
    {
     "data": {
      "text/plain": [
       "[(0, 'StandardDeviceDescriptor'),\n",
       " (1, 'StandardConfigurationDescriptor'),\n",
       " (2, 'StandardInterfaceDescriptor'),\n",
       " (3, 'StandardEndpointDescriptor'),\n",
       " (4, 'StandardEndpointDescriptor')]"
      ]
     },
     "execution_count": 39,
     "metadata": {},
     "output_type": "execute_result"
    }
   ],
   "source": [
    "hf.descriptors_dbos_enum"
   ]
  },
  {
   "cell_type": "code",
   "execution_count": 40,
   "metadata": {},
   "outputs": [],
   "source": [
    "# hf.endpoints"
   ]
  },
  {
   "cell_type": "code",
   "execution_count": 41,
   "metadata": {},
   "outputs": [],
   "source": [
    "# hf.print_descriptors_dbos()"
   ]
  },
  {
   "cell_type": "code",
   "execution_count": 42,
   "metadata": {},
   "outputs": [],
   "source": [
    "# hf.max2837.display_registers()"
   ]
  },
  {
   "cell_type": "code",
   "execution_count": 43,
   "metadata": {},
   "outputs": [],
   "source": [
    "# hf.rffc5071.display_registers()"
   ]
  },
  {
   "cell_type": "code",
   "execution_count": 44,
   "metadata": {
    "scrolled": false
   },
   "outputs": [],
   "source": [
    "# hf.si5351c.display_registers()"
   ]
  },
  {
   "cell_type": "code",
   "execution_count": 45,
   "metadata": {},
   "outputs": [],
   "source": [
    "del hf"
   ]
  },
  {
   "cell_type": "code",
   "execution_count": 46,
   "metadata": {
    "scrolled": false
   },
   "outputs": [
    {
     "name": "stderr",
     "output_type": "stream",
     "text": [
      "test_disable_amp (software_defined_radio.devices.hackrf.py_hackrf.test.TestHackRf) ... ok\n",
      "test_enable_amp (software_defined_radio.devices.hackrf.py_hackrf.test.TestHackRf) ... ok\n",
      "test_get_board_id (software_defined_radio.devices.hackrf.py_hackrf.test.TestHackRf) ... ok\n",
      "test_get_board_serial_number (software_defined_radio.devices.hackrf.py_hackrf.test.TestHackRf) ... ok\n",
      "test_get_version_string (software_defined_radio.devices.hackrf.py_hackrf.test.TestHackRf) ... ok\n",
      "test_set_baseband_filter_bandwidth (software_defined_radio.devices.hackrf.py_hackrf.test.TestHackRf) ... ok\n",
      "test_set_frequency (software_defined_radio.devices.hackrf.py_hackrf.test.TestHackRf) ... ok\n",
      "test_set_lna_gain (software_defined_radio.devices.hackrf.py_hackrf.test.TestHackRf) ... ok\n",
      "test_set_rx_mode (software_defined_radio.devices.hackrf.py_hackrf.test.TestHackRf) ... ok\n",
      "test_set_sample_rate (software_defined_radio.devices.hackrf.py_hackrf.test.TestHackRf) ... ok\n",
      "test_set_tx_mode (software_defined_radio.devices.hackrf.py_hackrf.test.TestHackRf) ... ok\n",
      "test_set_txvga_gain (software_defined_radio.devices.hackrf.py_hackrf.test.TestHackRf) ... ok\n",
      "test_set_vga_gain (software_defined_radio.devices.hackrf.py_hackrf.test.TestHackRf) ... ok\n",
      "\n",
      "----------------------------------------------------------------------\n",
      "Ran 13 tests in 0.097s\n",
      "\n",
      "OK\n"
     ]
    },
    {
     "data": {
      "text/plain": [
       "<unittest.runner.TextTestResult run=13 errors=0 failures=0>"
      ]
     },
     "execution_count": 46,
     "metadata": {},
     "output_type": "execute_result"
    }
   ],
   "source": [
    "import unittest\n",
    "\n",
    "suite = unittest.TestLoader().loadTestsFromTestCase(TestHackRf)\n",
    "unittest.TextTestRunner(verbosity = 2).run(suite)"
   ]
  },
  {
   "cell_type": "code",
   "execution_count": 47,
   "metadata": {
    "scrolled": false
   },
   "outputs": [
    {
     "data": {
      "text/plain": [
       "('00000000', '00000000', '901868DC', '284B908B')"
      ]
     },
     "execution_count": 47,
     "metadata": {},
     "output_type": "execute_result"
    }
   ],
   "source": [
    "tf = TestHackRf()\n",
    "tf.setUp()\n",
    "\n",
    "tf.hackrf.get_board_serial_number()"
   ]
  },
  {
   "cell_type": "markdown",
   "metadata": {},
   "source": [
    "```\n",
    "$ hackrf_info\n",
    "hackrf_info version: unknown\n",
    "libhackrf version: unknown (0.5)\n",
    "Found HackRF\n",
    "Index: 0\n",
    "Serial number: 0000000000000000901868dc284b908b\n",
    "Board ID Number: 2 (HackRF One)\n",
    "Firmware Version: 2018.01.1 (API:1.02)\n",
    "Part ID Number: 0xa000cb3c 0x006a4f5d\n",
    "\n",
    "```"
   ]
  },
  {
   "cell_type": "code",
   "execution_count": 48,
   "metadata": {},
   "outputs": [
    {
     "data": {
      "text/plain": [
       "'2018.01.1'"
      ]
     },
     "execution_count": 48,
     "metadata": {},
     "output_type": "execute_result"
    }
   ],
   "source": [
    "tf.hackrf.get_version_string()"
   ]
  },
  {
   "cell_type": "code",
   "execution_count": 49,
   "metadata": {},
   "outputs": [
    {
     "data": {
      "text/plain": [
       "0"
      ]
     },
     "execution_count": 49,
     "metadata": {},
     "output_type": "execute_result"
    }
   ],
   "source": [
    "tf.hackrf.set_rx_mode()"
   ]
  }
 ],
 "metadata": {
  "kernelspec": {
   "display_name": "Python 3",
   "language": "python",
   "name": "python3"
  },
  "language_info": {
   "codemirror_mode": {
    "name": "ipython",
    "version": 3
   },
   "file_extension": ".py",
   "mimetype": "text/x-python",
   "name": "python",
   "nbconvert_exporter": "python",
   "pygments_lexer": "ipython3",
   "version": "3.6.9"
  }
 },
 "nbformat": 4,
 "nbformat_minor": 2
}
