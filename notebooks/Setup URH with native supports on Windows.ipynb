{
 "cells": [
  {
   "cell_type": "markdown",
   "metadata": {},
   "source": [
    "# Setup URH with native supports on Windows"
   ]
  },
  {
   "cell_type": "markdown",
   "metadata": {},
   "source": [
    "## include and library files\n",
    "\n",
    "setup.py will call `get_device_extensions_and_extras` in `src/urh/dev/native/ExtensionHelper.py [line:114]`   \n",
    "\n",
    "which offers the only oppertunity to setup `include` and `library` directories for extensions building processes.\n",
    "\n",
    "```\n",
    "def get_device_extensions_and_extras(library_dirs=None):\n",
    "    library_dirs = [] if library_dirs is None else library_dirs\n",
    "\n",
    "    cur_dir = os.path.dirname(os.path.realpath(__file__))\n",
    "    include_dirs = []\n",
    "\n",
    "    device_extras = dict()\n",
    "\n",
    "    if os.path.isdir(os.path.join(cur_dir, \"lib/shared\")):\n",
    "        # Device libs are packaged, so we are in release mode\n",
    "        include_dirs.insert(0, os.path.realpath(os.path.join(cur_dir, \"lib/shared/include\")))\n",
    "        library_dirs.insert(0, os.path.realpath(os.path.join(cur_dir, \"lib/shared\"))) \n",
    "```"
   ]
  },
  {
   "cell_type": "markdown",
   "metadata": {},
   "source": [
    "### so header files (*.h) should be placed in folder `src\\urh\\dev\\native\\lib\\shared\\include`  "
   ]
  },
  {
   "cell_type": "code",
   "execution_count": 1,
   "metadata": {},
   "outputs": [],
   "source": [
    "headers = ['bladeRF1.h',\n",
    "           'bladeRF2.h',\n",
    "           'iio.h',\n",
    "           'libairspy',\n",
    "           'libbladeRF.h',\n",
    "           'libhackrf',\n",
    "           'lime',\n",
    "           'mirsdrapi-rsp.h',\n",
    "           'pyconfig.h',\n",
    "           'rtl-sdr.h',\n",
    "           'rtl-sdr_export.h',\n",
    "           'uhd',\n",
    "           'uhd.h']"
   ]
  },
  {
   "cell_type": "markdown",
   "metadata": {},
   "source": [
    "### so library files (*.lib) should be placed in folder `src\\urh\\dev\\native\\lib\\shared`  "
   ]
  },
  {
   "cell_type": "code",
   "execution_count": 2,
   "metadata": {},
   "outputs": [],
   "source": [
    "libraries = ['airspy.lib',\n",
    "             'airspy_static.lib',\n",
    "             'bladeRF.lib',\n",
    "             'hackrf.lib',\n",
    "             'hackrf_static.lib',\n",
    "             'iio.lib',\n",
    "             'include',\n",
    "             'LimeSuite.lib',\n",
    "             'mir_sdr_api.lib',\n",
    "             'rtlsdr.lib',\n",
    "             'rtlsdr_static.lib',\n",
    "             'uhd.lib']"
   ]
  },
  {
   "cell_type": "markdown",
   "metadata": {},
   "source": [
    "example of folder `src\\urh\\dev\\native\\lib\\shared` was zipped as [here](src_urh_dev_native_lib_shared.rar)."
   ]
  },
  {
   "cell_type": "markdown",
   "metadata": {},
   "source": [
    "## DLL files\n",
    "\n",
    "URH will need external `DLL` files:    "
   ]
  },
  {
   "cell_type": "code",
   "execution_count": 3,
   "metadata": {},
   "outputs": [],
   "source": [
    "DLLs = ['airspy.dll',\n",
    "        'bladeRF.dll',\n",
    "        'FTD3XX.dll',\n",
    "        'hackrf.dll',\n",
    "        'libcrypto-1_1.dll',\n",
    "        'libfftw3-3.dll',\n",
    "        'libfftw3f-3.dll',\n",
    "        'libfftw3l-3.dll',\n",
    "        'libGLESv2.dll',\n",
    "        'libiio.dll',\n",
    "        'libopenblas.PYQHXLVVQ7VESDPUVUADXEVJOBGHJPAY.gfortran-win_amd64.dll',\n",
    "        'libserialport-0.dll',\n",
    "        'libssl-1_1.dll',\n",
    "        'libusb-1.0.dll',\n",
    "        'libxml2.dll',\n",
    "        'LimeSuite.dll',\n",
    "        'mir_sdr_api.dll',\n",
    "        'pthreadVC2.dll',\n",
    "        'rtlsdr.dll',\n",
    "        'uhd.dll']"
   ]
  },
  {
   "cell_type": "markdown",
   "metadata": {},
   "source": [
    "Which can be placed in `Python\\Lib\\site-packages\\pywin32_system32\\urh` and appended into Windows environment variable `PATH`.  "
   ]
  },
  {
   "cell_type": "markdown",
   "metadata": {},
   "source": [
    "## How to gather all these files?\n",
    "\n",
    "To gather these files, one can install URH with [MSI installer](https://github.com/jopohl/urh/releases) and get those files."
   ]
  },
  {
   "cell_type": "markdown",
   "metadata": {},
   "source": [
    "## Install URH\n",
    "\n",
    "After setting up `include`, `library`, and `DLL` file, we can install URH with:\n",
    "```\n",
    "python setup.py install \n",
    "```"
   ]
  },
  {
   "cell_type": "markdown",
   "metadata": {},
   "source": [
    "## Test\n",
    "\n",
    "Type `urh` under command prompt\n",
    "\n",
    "Try `import urh` in Python environment."
   ]
  }
 ],
 "metadata": {
  "kernelspec": {
   "display_name": "Python 3",
   "language": "python",
   "name": "python3"
  },
  "language_info": {
   "codemirror_mode": {
    "name": "ipython",
    "version": 3
   },
   "file_extension": ".py",
   "mimetype": "text/x-python",
   "name": "python",
   "nbconvert_exporter": "python",
   "pygments_lexer": "ipython3",
   "version": "3.6.9"
  }
 },
 "nbformat": 4,
 "nbformat_minor": 2
}
